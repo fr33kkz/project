{
  "nbformat": 4,
  "nbformat_minor": 0,
  "metadata": {
    "colab": {
      "provenance": [],
      "collapsed_sections": [
        "_13h9BYn1oiO",
        "3VBbn9cJILud"
      ]
    },
    "kernelspec": {
      "name": "python3",
      "display_name": "Python 3"
    },
    "language_info": {
      "name": "python"
    }
  },
  "cells": [
    {
      "cell_type": "markdown",
      "source": [
        "##**Problem Statement**\n",
        "\n",
        "**Detecting fraud for transactions in a payment gateway.\n",
        "\n",
        " **IndAvenue has started gaining traction due to its extremely low processing fees for handling online vendors’ digital payments.\n",
        "\n",
        " **This strategy has led to very low costs of acquiring new vendors.\n",
        "  \n",
        "  **is_fruad is the target varible in tha data"
      ],
      "metadata": {
        "id": "ojEyQW3V4YYi"
      }
    },
    {
      "cell_type": "markdown",
      "source": [
        "## Importing and Reading the data"
      ],
      "metadata": {
        "id": "_13h9BYn1oiO"
      }
    },
    {
      "cell_type": "code",
      "execution_count": 1,
      "metadata": {
        "id": "tgVjme5t4XZI"
      },
      "outputs": [],
      "source": [
        "# Importing the required libraries.\n",
        "\n",
        "import pandas as pd\n",
        "import numpy as np\n",
        "import matplotlib.pyplot as plt\n",
        "from matplotlib.pyplot import subplots\n",
        "import seaborn as sns\n",
        "from datetime import datetime\n",
        "from sklearn import preprocessing\n",
        "from sklearn.model_selection import train_test_split\n",
        "from sklearn.ensemble import AdaBoostClassifier\n",
        "from sklearn.metrics import confusion_matrix\n",
        "from sklearn.metrics import f1_score\n",
        "from sklearn.preprocessing import StandardScaler\n",
        "from sklearn.neighbors import KNeighborsClassifier\n",
        "from sklearn.linear_model import LogisticRegression\n",
        "from sklearn.tree import DecisionTreeClassifier\n",
        "from sklearn.ensemble import RandomForestClassifier\n",
        "import xgboost as xgb\n",
        "from xgboost.sklearn import XGBClassifier\n",
        "import statistics as stat"
      ]
    },
    {
      "cell_type": "code",
      "source": [
        "# Reading the train and test data.\n",
        "\n",
        "train_data = pd.read_csv(\"/content/train_data-1611220940820.csv\", na_values='?' ',')\n",
        "test_data = pd.read_csv(\"/content/test_data-1611220982388.csv\", na_values ='?' ',')"
      ],
      "metadata": {
        "id": "wjqOtjf98wwY"
      },
      "execution_count": 2,
      "outputs": []
    },
    {
      "cell_type": "code",
      "source": [
        "# Number of Records in the data\n",
        "\n",
        "rows,cols = train_data.shape\n",
        "print(f'There are {rows} Rows and {cols} Columns')"
      ],
      "metadata": {
        "colab": {
          "base_uri": "https://localhost:8080/"
        },
        "id": "xyatgvKpJoa1",
        "outputId": "ce13c4b6-02bb-46d9-95a0-c744f6bce1b8"
      },
      "execution_count": 3,
      "outputs": [
        {
          "output_type": "stream",
          "name": "stdout",
          "text": [
            "There are 76529 Rows and 11 Columns\n"
          ]
        }
      ]
    },
    {
      "cell_type": "code",
      "source": [
        "# Displaying the first five records.\n",
        "\n",
        "train_data.head()"
      ],
      "metadata": {
        "colab": {
          "base_uri": "https://localhost:8080/",
          "height": 357
        },
        "id": "0Zq4cEqV-S-z",
        "outputId": "78a9e2c5-1957-4d5e-83ca-80f49c8be27f"
      },
      "execution_count": 4,
      "outputs": [
        {
          "output_type": "execute_result",
          "data": {
            "text/plain": [
              "   transaction_number   user_id          payment_method  partner_id  \\\n",
              "0        144703125000  17539344  sbi_atm_cum_debit_card       47334   \n",
              "1      77406814453032  24710841       e_wallet_payments       78890   \n",
              "2     308929485482801  24265476       e_wallet_payments       78890   \n",
              "3     665270027747073  10240000       other_debit_cards      102557   \n",
              "4      38276160171101   5880625       other_debit_cards      118335   \n",
              "\n",
              "  partner_category  country      device_type  money_transacted  \\\n",
              "0            cat_1  IND_INR  android_devices              -5.0   \n",
              "1            cat_2  IND_INR        other_pcs             100.0   \n",
              "2            cat_2  IND_INR        other_pcs              50.0   \n",
              "3            cat_3  IND_INR        other_pcs            1000.0   \n",
              "4            cat_1  IND_INR        other_pcs             200.0   \n",
              "\n",
              "      transaction_initiation  partner_pricing_category  is_fraud  \n",
              "0  2016-11-15 19:16:12+00:00                         2         0  \n",
              "1  2017-01-11 09:25:33+00:00                         2         0  \n",
              "2  2016-12-07 07:58:09+00:00                         2         0  \n",
              "3  2017-01-11 16:15:44+00:00                         2         0  \n",
              "4  2016-11-16 17:04:42+00:00                         2         0  "
            ],
            "text/html": [
              "\n",
              "  <div id=\"df-5cfd383f-b35d-46f0-a61f-7693f307465b\">\n",
              "    <div class=\"colab-df-container\">\n",
              "      <div>\n",
              "<style scoped>\n",
              "    .dataframe tbody tr th:only-of-type {\n",
              "        vertical-align: middle;\n",
              "    }\n",
              "\n",
              "    .dataframe tbody tr th {\n",
              "        vertical-align: top;\n",
              "    }\n",
              "\n",
              "    .dataframe thead th {\n",
              "        text-align: right;\n",
              "    }\n",
              "</style>\n",
              "<table border=\"1\" class=\"dataframe\">\n",
              "  <thead>\n",
              "    <tr style=\"text-align: right;\">\n",
              "      <th></th>\n",
              "      <th>transaction_number</th>\n",
              "      <th>user_id</th>\n",
              "      <th>payment_method</th>\n",
              "      <th>partner_id</th>\n",
              "      <th>partner_category</th>\n",
              "      <th>country</th>\n",
              "      <th>device_type</th>\n",
              "      <th>money_transacted</th>\n",
              "      <th>transaction_initiation</th>\n",
              "      <th>partner_pricing_category</th>\n",
              "      <th>is_fraud</th>\n",
              "    </tr>\n",
              "  </thead>\n",
              "  <tbody>\n",
              "    <tr>\n",
              "      <th>0</th>\n",
              "      <td>144703125000</td>\n",
              "      <td>17539344</td>\n",
              "      <td>sbi_atm_cum_debit_card</td>\n",
              "      <td>47334</td>\n",
              "      <td>cat_1</td>\n",
              "      <td>IND_INR</td>\n",
              "      <td>android_devices</td>\n",
              "      <td>-5.0</td>\n",
              "      <td>2016-11-15 19:16:12+00:00</td>\n",
              "      <td>2</td>\n",
              "      <td>0</td>\n",
              "    </tr>\n",
              "    <tr>\n",
              "      <th>1</th>\n",
              "      <td>77406814453032</td>\n",
              "      <td>24710841</td>\n",
              "      <td>e_wallet_payments</td>\n",
              "      <td>78890</td>\n",
              "      <td>cat_2</td>\n",
              "      <td>IND_INR</td>\n",
              "      <td>other_pcs</td>\n",
              "      <td>100.0</td>\n",
              "      <td>2017-01-11 09:25:33+00:00</td>\n",
              "      <td>2</td>\n",
              "      <td>0</td>\n",
              "    </tr>\n",
              "    <tr>\n",
              "      <th>2</th>\n",
              "      <td>308929485482801</td>\n",
              "      <td>24265476</td>\n",
              "      <td>e_wallet_payments</td>\n",
              "      <td>78890</td>\n",
              "      <td>cat_2</td>\n",
              "      <td>IND_INR</td>\n",
              "      <td>other_pcs</td>\n",
              "      <td>50.0</td>\n",
              "      <td>2016-12-07 07:58:09+00:00</td>\n",
              "      <td>2</td>\n",
              "      <td>0</td>\n",
              "    </tr>\n",
              "    <tr>\n",
              "      <th>3</th>\n",
              "      <td>665270027747073</td>\n",
              "      <td>10240000</td>\n",
              "      <td>other_debit_cards</td>\n",
              "      <td>102557</td>\n",
              "      <td>cat_3</td>\n",
              "      <td>IND_INR</td>\n",
              "      <td>other_pcs</td>\n",
              "      <td>1000.0</td>\n",
              "      <td>2017-01-11 16:15:44+00:00</td>\n",
              "      <td>2</td>\n",
              "      <td>0</td>\n",
              "    </tr>\n",
              "    <tr>\n",
              "      <th>4</th>\n",
              "      <td>38276160171101</td>\n",
              "      <td>5880625</td>\n",
              "      <td>other_debit_cards</td>\n",
              "      <td>118335</td>\n",
              "      <td>cat_1</td>\n",
              "      <td>IND_INR</td>\n",
              "      <td>other_pcs</td>\n",
              "      <td>200.0</td>\n",
              "      <td>2016-11-16 17:04:42+00:00</td>\n",
              "      <td>2</td>\n",
              "      <td>0</td>\n",
              "    </tr>\n",
              "  </tbody>\n",
              "</table>\n",
              "</div>\n",
              "      <button class=\"colab-df-convert\" onclick=\"convertToInteractive('df-5cfd383f-b35d-46f0-a61f-7693f307465b')\"\n",
              "              title=\"Convert this dataframe to an interactive table.\"\n",
              "              style=\"display:none;\">\n",
              "        \n",
              "  <svg xmlns=\"http://www.w3.org/2000/svg\" height=\"24px\"viewBox=\"0 0 24 24\"\n",
              "       width=\"24px\">\n",
              "    <path d=\"M0 0h24v24H0V0z\" fill=\"none\"/>\n",
              "    <path d=\"M18.56 5.44l.94 2.06.94-2.06 2.06-.94-2.06-.94-.94-2.06-.94 2.06-2.06.94zm-11 1L8.5 8.5l.94-2.06 2.06-.94-2.06-.94L8.5 2.5l-.94 2.06-2.06.94zm10 10l.94 2.06.94-2.06 2.06-.94-2.06-.94-.94-2.06-.94 2.06-2.06.94z\"/><path d=\"M17.41 7.96l-1.37-1.37c-.4-.4-.92-.59-1.43-.59-.52 0-1.04.2-1.43.59L10.3 9.45l-7.72 7.72c-.78.78-.78 2.05 0 2.83L4 21.41c.39.39.9.59 1.41.59.51 0 1.02-.2 1.41-.59l7.78-7.78 2.81-2.81c.8-.78.8-2.07 0-2.86zM5.41 20L4 18.59l7.72-7.72 1.47 1.35L5.41 20z\"/>\n",
              "  </svg>\n",
              "      </button>\n",
              "      \n",
              "  <style>\n",
              "    .colab-df-container {\n",
              "      display:flex;\n",
              "      flex-wrap:wrap;\n",
              "      gap: 12px;\n",
              "    }\n",
              "\n",
              "    .colab-df-convert {\n",
              "      background-color: #E8F0FE;\n",
              "      border: none;\n",
              "      border-radius: 50%;\n",
              "      cursor: pointer;\n",
              "      display: none;\n",
              "      fill: #1967D2;\n",
              "      height: 32px;\n",
              "      padding: 0 0 0 0;\n",
              "      width: 32px;\n",
              "    }\n",
              "\n",
              "    .colab-df-convert:hover {\n",
              "      background-color: #E2EBFA;\n",
              "      box-shadow: 0px 1px 2px rgba(60, 64, 67, 0.3), 0px 1px 3px 1px rgba(60, 64, 67, 0.15);\n",
              "      fill: #174EA6;\n",
              "    }\n",
              "\n",
              "    [theme=dark] .colab-df-convert {\n",
              "      background-color: #3B4455;\n",
              "      fill: #D2E3FC;\n",
              "    }\n",
              "\n",
              "    [theme=dark] .colab-df-convert:hover {\n",
              "      background-color: #434B5C;\n",
              "      box-shadow: 0px 1px 3px 1px rgba(0, 0, 0, 0.15);\n",
              "      filter: drop-shadow(0px 1px 2px rgba(0, 0, 0, 0.3));\n",
              "      fill: #FFFFFF;\n",
              "    }\n",
              "  </style>\n",
              "\n",
              "      <script>\n",
              "        const buttonEl =\n",
              "          document.querySelector('#df-5cfd383f-b35d-46f0-a61f-7693f307465b button.colab-df-convert');\n",
              "        buttonEl.style.display =\n",
              "          google.colab.kernel.accessAllowed ? 'block' : 'none';\n",
              "\n",
              "        async function convertToInteractive(key) {\n",
              "          const element = document.querySelector('#df-5cfd383f-b35d-46f0-a61f-7693f307465b');\n",
              "          const dataTable =\n",
              "            await google.colab.kernel.invokeFunction('convertToInteractive',\n",
              "                                                     [key], {});\n",
              "          if (!dataTable) return;\n",
              "\n",
              "          const docLinkHtml = 'Like what you see? Visit the ' +\n",
              "            '<a target=\"_blank\" href=https://colab.research.google.com/notebooks/data_table.ipynb>data table notebook</a>'\n",
              "            + ' to learn more about interactive tables.';\n",
              "          element.innerHTML = '';\n",
              "          dataTable['output_type'] = 'display_data';\n",
              "          await google.colab.output.renderOutput(dataTable, element);\n",
              "          const docLink = document.createElement('div');\n",
              "          docLink.innerHTML = docLinkHtml;\n",
              "          element.appendChild(docLink);\n",
              "        }\n",
              "      </script>\n",
              "    </div>\n",
              "  </div>\n",
              "  "
            ]
          },
          "metadata": {},
          "execution_count": 4
        }
      ]
    },
    {
      "cell_type": "markdown",
      "source": [
        "#EDA (Exploratory Data Analysis)\n",
        "\n",
        "\n",
        "\n",
        "*   Understanding the data in a more detailed way.\n",
        "*   Understanding the insights of the data through visualization of the data.\n",
        "\n",
        "\n",
        "\n"
      ],
      "metadata": {
        "id": "3VBbn9cJILud"
      }
    },
    {
      "cell_type": "code",
      "source": [
        "# Understanding the number of records (Number of fraud or not-fraud cases).\n",
        "\n",
        "nfraud, yfraud = train_data['is_fraud'].value_counts()\n",
        "print(f'There are a total of {rows} transactions of which there are {yfraud} fraudulent transactions.')"
      ],
      "metadata": {
        "colab": {
          "base_uri": "https://localhost:8080/"
        },
        "id": "FL1H4Sos_oLx",
        "outputId": "682a3abc-43fa-463d-f96e-c4dd2c58ce16"
      },
      "execution_count": 5,
      "outputs": [
        {
          "output_type": "stream",
          "name": "stdout",
          "text": [
            "There are a total of 76529 transactions of which there are 154 fraudulent transactions.\n"
          ]
        }
      ]
    },
    {
      "cell_type": "code",
      "source": [
        "# Summarizing information about the different columns in the data.\n",
        "\n",
        "train_data.info()"
      ],
      "metadata": {
        "colab": {
          "base_uri": "https://localhost:8080/"
        },
        "id": "JRQHt3yIKKPV",
        "outputId": "acf704dd-686f-48df-d7ad-0baddb2d7c7d"
      },
      "execution_count": 6,
      "outputs": [
        {
          "output_type": "stream",
          "name": "stdout",
          "text": [
            "<class 'pandas.core.frame.DataFrame'>\n",
            "RangeIndex: 76529 entries, 0 to 76528\n",
            "Data columns (total 11 columns):\n",
            " #   Column                    Non-Null Count  Dtype  \n",
            "---  ------                    --------------  -----  \n",
            " 0   transaction_number        76529 non-null  int64  \n",
            " 1   user_id                   76529 non-null  int64  \n",
            " 2   payment_method            76529 non-null  object \n",
            " 3   partner_id                76529 non-null  int64  \n",
            " 4   partner_category          76529 non-null  object \n",
            " 5   country                   76529 non-null  object \n",
            " 6   device_type               76529 non-null  object \n",
            " 7   money_transacted          76529 non-null  float64\n",
            " 8   transaction_initiation    76529 non-null  object \n",
            " 9   partner_pricing_category  76529 non-null  int64  \n",
            " 10  is_fraud                  76529 non-null  int64  \n",
            "dtypes: float64(1), int64(5), object(5)\n",
            "memory usage: 6.4+ MB\n"
          ]
        }
      ]
    },
    {
      "cell_type": "markdown",
      "source": [
        "We can see that none of the features are having null or missing values, and also the data type of the features."
      ],
      "metadata": {
        "id": "mfz-hyO5j_0r"
      }
    },
    {
      "cell_type": "code",
      "source": [
        "# Gathering and understanding statistical data from the dataset.\n",
        "\n",
        "train_data.describe(include = 'all')"
      ],
      "metadata": {
        "colab": {
          "base_uri": "https://localhost:8080/",
          "height": 0
        },
        "id": "G_BkNzvGHAZB",
        "outputId": "7cbee494-9ecc-442d-b1bf-6447077df76c"
      },
      "execution_count": 7,
      "outputs": [
        {
          "output_type": "execute_result",
          "data": {
            "text/plain": [
              "        transaction_number       user_id          payment_method  \\\n",
              "count         7.652900e+04  7.652900e+04                   76529   \n",
              "unique                 NaN           NaN                       6   \n",
              "top                    NaN           NaN  sbi_atm_cum_debit_card   \n",
              "freq                   NaN           NaN                   30538   \n",
              "mean          6.940200e+14  1.247483e+07                     NaN   \n",
              "std           7.867885e+14  1.205878e+07                     NaN   \n",
              "min           8.000000e+00  1.000000e+00                     NaN   \n",
              "25%           4.387866e+13  3.515625e+06                     NaN   \n",
              "50%           3.452540e+14  9.753129e+06                     NaN   \n",
              "75%           1.173440e+15  1.788444e+07                     NaN   \n",
              "max           2.784238e+15  5.592048e+07                     NaN   \n",
              "\n",
              "           partner_id partner_category  country device_type  money_transacted  \\\n",
              "count    76529.000000            76529    76529       76529      76529.000000   \n",
              "unique            NaN                9        1           4               NaN   \n",
              "top               NaN            cat_1  IND_INR   other_pcs               NaN   \n",
              "freq              NaN            36306    76529       45560               NaN   \n",
              "mean     58497.189105              NaN      NaN         NaN        132.724348   \n",
              "std      36740.216787              NaN      NaN         NaN       2350.110900   \n",
              "min       7889.000000              NaN      NaN         NaN     -20000.000000   \n",
              "25%      23667.000000              NaN      NaN         NaN         -1.000000   \n",
              "50%      47334.000000              NaN      NaN         NaN         20.000000   \n",
              "75%      78890.000000              NaN      NaN         NaN         52.000000   \n",
              "max     213003.000000              NaN      NaN         NaN     197217.760000   \n",
              "\n",
              "           transaction_initiation  partner_pricing_category      is_fraud  \n",
              "count                       76529              76529.000000  76529.000000  \n",
              "unique                      75811                       NaN           NaN  \n",
              "top     2016-12-24 16:30:13+00:00                       NaN           NaN  \n",
              "freq                           12                       NaN           NaN  \n",
              "mean                          NaN                  2.255707      0.002012  \n",
              "std                           NaN                  0.732174      0.044814  \n",
              "min                           NaN                  0.000000      0.000000  \n",
              "25%                           NaN                  2.000000      0.000000  \n",
              "50%                           NaN                  2.000000      0.000000  \n",
              "75%                           NaN                  2.000000      0.000000  \n",
              "max                           NaN                  4.000000      1.000000  "
            ],
            "text/html": [
              "\n",
              "  <div id=\"df-226fec60-bb31-41f5-aa3e-0a30ea72bf4c\">\n",
              "    <div class=\"colab-df-container\">\n",
              "      <div>\n",
              "<style scoped>\n",
              "    .dataframe tbody tr th:only-of-type {\n",
              "        vertical-align: middle;\n",
              "    }\n",
              "\n",
              "    .dataframe tbody tr th {\n",
              "        vertical-align: top;\n",
              "    }\n",
              "\n",
              "    .dataframe thead th {\n",
              "        text-align: right;\n",
              "    }\n",
              "</style>\n",
              "<table border=\"1\" class=\"dataframe\">\n",
              "  <thead>\n",
              "    <tr style=\"text-align: right;\">\n",
              "      <th></th>\n",
              "      <th>transaction_number</th>\n",
              "      <th>user_id</th>\n",
              "      <th>payment_method</th>\n",
              "      <th>partner_id</th>\n",
              "      <th>partner_category</th>\n",
              "      <th>country</th>\n",
              "      <th>device_type</th>\n",
              "      <th>money_transacted</th>\n",
              "      <th>transaction_initiation</th>\n",
              "      <th>partner_pricing_category</th>\n",
              "      <th>is_fraud</th>\n",
              "    </tr>\n",
              "  </thead>\n",
              "  <tbody>\n",
              "    <tr>\n",
              "      <th>count</th>\n",
              "      <td>7.652900e+04</td>\n",
              "      <td>7.652900e+04</td>\n",
              "      <td>76529</td>\n",
              "      <td>76529.000000</td>\n",
              "      <td>76529</td>\n",
              "      <td>76529</td>\n",
              "      <td>76529</td>\n",
              "      <td>76529.000000</td>\n",
              "      <td>76529</td>\n",
              "      <td>76529.000000</td>\n",
              "      <td>76529.000000</td>\n",
              "    </tr>\n",
              "    <tr>\n",
              "      <th>unique</th>\n",
              "      <td>NaN</td>\n",
              "      <td>NaN</td>\n",
              "      <td>6</td>\n",
              "      <td>NaN</td>\n",
              "      <td>9</td>\n",
              "      <td>1</td>\n",
              "      <td>4</td>\n",
              "      <td>NaN</td>\n",
              "      <td>75811</td>\n",
              "      <td>NaN</td>\n",
              "      <td>NaN</td>\n",
              "    </tr>\n",
              "    <tr>\n",
              "      <th>top</th>\n",
              "      <td>NaN</td>\n",
              "      <td>NaN</td>\n",
              "      <td>sbi_atm_cum_debit_card</td>\n",
              "      <td>NaN</td>\n",
              "      <td>cat_1</td>\n",
              "      <td>IND_INR</td>\n",
              "      <td>other_pcs</td>\n",
              "      <td>NaN</td>\n",
              "      <td>2016-12-24 16:30:13+00:00</td>\n",
              "      <td>NaN</td>\n",
              "      <td>NaN</td>\n",
              "    </tr>\n",
              "    <tr>\n",
              "      <th>freq</th>\n",
              "      <td>NaN</td>\n",
              "      <td>NaN</td>\n",
              "      <td>30538</td>\n",
              "      <td>NaN</td>\n",
              "      <td>36306</td>\n",
              "      <td>76529</td>\n",
              "      <td>45560</td>\n",
              "      <td>NaN</td>\n",
              "      <td>12</td>\n",
              "      <td>NaN</td>\n",
              "      <td>NaN</td>\n",
              "    </tr>\n",
              "    <tr>\n",
              "      <th>mean</th>\n",
              "      <td>6.940200e+14</td>\n",
              "      <td>1.247483e+07</td>\n",
              "      <td>NaN</td>\n",
              "      <td>58497.189105</td>\n",
              "      <td>NaN</td>\n",
              "      <td>NaN</td>\n",
              "      <td>NaN</td>\n",
              "      <td>132.724348</td>\n",
              "      <td>NaN</td>\n",
              "      <td>2.255707</td>\n",
              "      <td>0.002012</td>\n",
              "    </tr>\n",
              "    <tr>\n",
              "      <th>std</th>\n",
              "      <td>7.867885e+14</td>\n",
              "      <td>1.205878e+07</td>\n",
              "      <td>NaN</td>\n",
              "      <td>36740.216787</td>\n",
              "      <td>NaN</td>\n",
              "      <td>NaN</td>\n",
              "      <td>NaN</td>\n",
              "      <td>2350.110900</td>\n",
              "      <td>NaN</td>\n",
              "      <td>0.732174</td>\n",
              "      <td>0.044814</td>\n",
              "    </tr>\n",
              "    <tr>\n",
              "      <th>min</th>\n",
              "      <td>8.000000e+00</td>\n",
              "      <td>1.000000e+00</td>\n",
              "      <td>NaN</td>\n",
              "      <td>7889.000000</td>\n",
              "      <td>NaN</td>\n",
              "      <td>NaN</td>\n",
              "      <td>NaN</td>\n",
              "      <td>-20000.000000</td>\n",
              "      <td>NaN</td>\n",
              "      <td>0.000000</td>\n",
              "      <td>0.000000</td>\n",
              "    </tr>\n",
              "    <tr>\n",
              "      <th>25%</th>\n",
              "      <td>4.387866e+13</td>\n",
              "      <td>3.515625e+06</td>\n",
              "      <td>NaN</td>\n",
              "      <td>23667.000000</td>\n",
              "      <td>NaN</td>\n",
              "      <td>NaN</td>\n",
              "      <td>NaN</td>\n",
              "      <td>-1.000000</td>\n",
              "      <td>NaN</td>\n",
              "      <td>2.000000</td>\n",
              "      <td>0.000000</td>\n",
              "    </tr>\n",
              "    <tr>\n",
              "      <th>50%</th>\n",
              "      <td>3.452540e+14</td>\n",
              "      <td>9.753129e+06</td>\n",
              "      <td>NaN</td>\n",
              "      <td>47334.000000</td>\n",
              "      <td>NaN</td>\n",
              "      <td>NaN</td>\n",
              "      <td>NaN</td>\n",
              "      <td>20.000000</td>\n",
              "      <td>NaN</td>\n",
              "      <td>2.000000</td>\n",
              "      <td>0.000000</td>\n",
              "    </tr>\n",
              "    <tr>\n",
              "      <th>75%</th>\n",
              "      <td>1.173440e+15</td>\n",
              "      <td>1.788444e+07</td>\n",
              "      <td>NaN</td>\n",
              "      <td>78890.000000</td>\n",
              "      <td>NaN</td>\n",
              "      <td>NaN</td>\n",
              "      <td>NaN</td>\n",
              "      <td>52.000000</td>\n",
              "      <td>NaN</td>\n",
              "      <td>2.000000</td>\n",
              "      <td>0.000000</td>\n",
              "    </tr>\n",
              "    <tr>\n",
              "      <th>max</th>\n",
              "      <td>2.784238e+15</td>\n",
              "      <td>5.592048e+07</td>\n",
              "      <td>NaN</td>\n",
              "      <td>213003.000000</td>\n",
              "      <td>NaN</td>\n",
              "      <td>NaN</td>\n",
              "      <td>NaN</td>\n",
              "      <td>197217.760000</td>\n",
              "      <td>NaN</td>\n",
              "      <td>4.000000</td>\n",
              "      <td>1.000000</td>\n",
              "    </tr>\n",
              "  </tbody>\n",
              "</table>\n",
              "</div>\n",
              "      <button class=\"colab-df-convert\" onclick=\"convertToInteractive('df-226fec60-bb31-41f5-aa3e-0a30ea72bf4c')\"\n",
              "              title=\"Convert this dataframe to an interactive table.\"\n",
              "              style=\"display:none;\">\n",
              "        \n",
              "  <svg xmlns=\"http://www.w3.org/2000/svg\" height=\"24px\"viewBox=\"0 0 24 24\"\n",
              "       width=\"24px\">\n",
              "    <path d=\"M0 0h24v24H0V0z\" fill=\"none\"/>\n",
              "    <path d=\"M18.56 5.44l.94 2.06.94-2.06 2.06-.94-2.06-.94-.94-2.06-.94 2.06-2.06.94zm-11 1L8.5 8.5l.94-2.06 2.06-.94-2.06-.94L8.5 2.5l-.94 2.06-2.06.94zm10 10l.94 2.06.94-2.06 2.06-.94-2.06-.94-.94-2.06-.94 2.06-2.06.94z\"/><path d=\"M17.41 7.96l-1.37-1.37c-.4-.4-.92-.59-1.43-.59-.52 0-1.04.2-1.43.59L10.3 9.45l-7.72 7.72c-.78.78-.78 2.05 0 2.83L4 21.41c.39.39.9.59 1.41.59.51 0 1.02-.2 1.41-.59l7.78-7.78 2.81-2.81c.8-.78.8-2.07 0-2.86zM5.41 20L4 18.59l7.72-7.72 1.47 1.35L5.41 20z\"/>\n",
              "  </svg>\n",
              "      </button>\n",
              "      \n",
              "  <style>\n",
              "    .colab-df-container {\n",
              "      display:flex;\n",
              "      flex-wrap:wrap;\n",
              "      gap: 12px;\n",
              "    }\n",
              "\n",
              "    .colab-df-convert {\n",
              "      background-color: #E8F0FE;\n",
              "      border: none;\n",
              "      border-radius: 50%;\n",
              "      cursor: pointer;\n",
              "      display: none;\n",
              "      fill: #1967D2;\n",
              "      height: 32px;\n",
              "      padding: 0 0 0 0;\n",
              "      width: 32px;\n",
              "    }\n",
              "\n",
              "    .colab-df-convert:hover {\n",
              "      background-color: #E2EBFA;\n",
              "      box-shadow: 0px 1px 2px rgba(60, 64, 67, 0.3), 0px 1px 3px 1px rgba(60, 64, 67, 0.15);\n",
              "      fill: #174EA6;\n",
              "    }\n",
              "\n",
              "    [theme=dark] .colab-df-convert {\n",
              "      background-color: #3B4455;\n",
              "      fill: #D2E3FC;\n",
              "    }\n",
              "\n",
              "    [theme=dark] .colab-df-convert:hover {\n",
              "      background-color: #434B5C;\n",
              "      box-shadow: 0px 1px 3px 1px rgba(0, 0, 0, 0.15);\n",
              "      filter: drop-shadow(0px 1px 2px rgba(0, 0, 0, 0.3));\n",
              "      fill: #FFFFFF;\n",
              "    }\n",
              "  </style>\n",
              "\n",
              "      <script>\n",
              "        const buttonEl =\n",
              "          document.querySelector('#df-226fec60-bb31-41f5-aa3e-0a30ea72bf4c button.colab-df-convert');\n",
              "        buttonEl.style.display =\n",
              "          google.colab.kernel.accessAllowed ? 'block' : 'none';\n",
              "\n",
              "        async function convertToInteractive(key) {\n",
              "          const element = document.querySelector('#df-226fec60-bb31-41f5-aa3e-0a30ea72bf4c');\n",
              "          const dataTable =\n",
              "            await google.colab.kernel.invokeFunction('convertToInteractive',\n",
              "                                                     [key], {});\n",
              "          if (!dataTable) return;\n",
              "\n",
              "          const docLinkHtml = 'Like what you see? Visit the ' +\n",
              "            '<a target=\"_blank\" href=https://colab.research.google.com/notebooks/data_table.ipynb>data table notebook</a>'\n",
              "            + ' to learn more about interactive tables.';\n",
              "          element.innerHTML = '';\n",
              "          dataTable['output_type'] = 'display_data';\n",
              "          await google.colab.output.renderOutput(dataTable, element);\n",
              "          const docLink = document.createElement('div');\n",
              "          docLink.innerHTML = docLinkHtml;\n",
              "          element.appendChild(docLink);\n",
              "        }\n",
              "      </script>\n",
              "    </div>\n",
              "  </div>\n",
              "  "
            ]
          },
          "metadata": {},
          "execution_count": 7
        }
      ]
    },
    {
      "cell_type": "markdown",
      "source": [
        "Checking and understanding the statistical data such as mean, median, min, max etc."
      ],
      "metadata": {
        "id": "SbOpbMdJkS4B"
      }
    },
    {
      "cell_type": "code",
      "source": [
        "# Plotting a correlation heat map to visualize the correlation between various features.  \n",
        "\n",
        "plt.figure(figsize = (18, 12))\n",
        "sns.heatmap(data = train_data.corr(), annot = True, fmt ='.2g', linewidth = 1)\n",
        "plt.show()"
      ],
      "metadata": {
        "colab": {
          "base_uri": "https://localhost:8080/",
          "height": 0
        },
        "id": "CsTny1-LK4g-",
        "outputId": "01e73e20-ec32-43c7-c24f-459a08779b6d"
      },
      "execution_count": 8,
      "outputs": [
        {
          "output_type": "display_data",
          "data": {
            "text/plain": [
              "<Figure size 1296x864 with 2 Axes>"
            ],
            "image/png": "[encoded data removed]"
          },
          "metadata": {
            "needs_background": "light"
          }
        }
      ]
    },
    {
      "cell_type": "markdown",
      "source": [
        "We can see that the \"money_transacted\" feature has the highest correlation with our target variable \"is_fraud\"."
      ],
      "metadata": {
        "id": "PR7vZClalTEP"
      }
    },
    {
      "cell_type": "code",
      "source": [
        "# Storing the fraudulent and valid transactions in different datasets for further insights\n",
        "\n",
        "train_data_f = train_data[train_data['is_fraud']==1]\n",
        "train_data_nf = train_data[train_data['is_fraud']==0]"
      ],
      "metadata": {
        "id": "M2l9BtdURPf8"
      },
      "execution_count": 9,
      "outputs": []
    },
    {
      "cell_type": "code",
      "source": [
        "# Printing the first five records of fraudulent transactions.\n",
        "\n",
        "train_data_f.head()"
      ],
      "metadata": {
        "colab": {
          "base_uri": "https://localhost:8080/",
          "height": 0
        },
        "id": "abjRI7vmTgBI",
        "outputId": "8fe4cebd-98d0-4e06-b196-485e6f3dc856"
      },
      "execution_count": 10,
      "outputs": [
        {
          "output_type": "execute_result",
          "data": {
            "text/plain": [
              "      transaction_number   user_id            payment_method  partner_id  \\\n",
              "196      631960043718375   1695204  visa_master_credit_cards      118335   \n",
              "571        2425548625856   7054336  visa_master_credit_cards      118335   \n",
              "1267        641842338376  19829209         other_debit_cards      118335   \n",
              "1420     298707250627423  19829209         other_debit_cards      118335   \n",
              "1811    1165348588684337  25542916   visa_master_debit_cards       23667   \n",
              "\n",
              "     partner_category  country  device_type  money_transacted  \\\n",
              "196             cat_1  IND_INR    other_pcs           40000.0   \n",
              "571             cat_1  IND_INR  windows_pcs            6000.0   \n",
              "1267            cat_1  IND_INR    other_pcs           10000.0   \n",
              "1420            cat_1  IND_INR    other_pcs           60000.0   \n",
              "1811            cat_2  IND_INR    other_pcs           10000.0   \n",
              "\n",
              "         transaction_initiation  partner_pricing_category  is_fraud  \n",
              "196   2017-01-18 15:09:59+00:00                         2         1  \n",
              "571   2017-01-24 00:44:25+00:00                         2         1  \n",
              "1267  2016-12-04 12:22:20+00:00                         0         1  \n",
              "1420  2016-12-04 12:20:07+00:00                         0         1  \n",
              "1811  2016-12-28 08:17:21+00:00                         4         1  "
            ],
            "text/html": [
              "\n",
              "  <div id=\"df-5e9fa978-3619-4283-ba69-5f4b9e77e5a2\">\n",
              "    <div class=\"colab-df-container\">\n",
              "      <div>\n",
              "<style scoped>\n",
              "    .dataframe tbody tr th:only-of-type {\n",
              "        vertical-align: middle;\n",
              "    }\n",
              "\n",
              "    .dataframe tbody tr th {\n",
              "        vertical-align: top;\n",
              "    }\n",
              "\n",
              "    .dataframe thead th {\n",
              "        text-align: right;\n",
              "    }\n",
              "</style>\n",
              "<table border=\"1\" class=\"dataframe\">\n",
              "  <thead>\n",
              "    <tr style=\"text-align: right;\">\n",
              "      <th></th>\n",
              "      <th>transaction_number</th>\n",
              "      <th>user_id</th>\n",
              "      <th>payment_method</th>\n",
              "      <th>partner_id</th>\n",
              "      <th>partner_category</th>\n",
              "      <th>country</th>\n",
              "      <th>device_type</th>\n",
              "      <th>money_transacted</th>\n",
              "      <th>transaction_initiation</th>\n",
              "      <th>partner_pricing_category</th>\n",
              "      <th>is_fraud</th>\n",
              "    </tr>\n",
              "  </thead>\n",
              "  <tbody>\n",
              "    <tr>\n",
              "      <th>196</th>\n",
              "      <td>631960043718375</td>\n",
              "      <td>1695204</td>\n",
              "      <td>visa_master_credit_cards</td>\n",
              "      <td>118335</td>\n",
              "      <td>cat_1</td>\n",
              "      <td>IND_INR</td>\n",
              "      <td>other_pcs</td>\n",
              "      <td>40000.0</td>\n",
              "      <td>2017-01-18 15:09:59+00:00</td>\n",
              "      <td>2</td>\n",
              "      <td>1</td>\n",
              "    </tr>\n",
              "    <tr>\n",
              "      <th>571</th>\n",
              "      <td>2425548625856</td>\n",
              "      <td>7054336</td>\n",
              "      <td>visa_master_credit_cards</td>\n",
              "      <td>118335</td>\n",
              "      <td>cat_1</td>\n",
              "      <td>IND_INR</td>\n",
              "      <td>windows_pcs</td>\n",
              "      <td>6000.0</td>\n",
              "      <td>2017-01-24 00:44:25+00:00</td>\n",
              "      <td>2</td>\n",
              "      <td>1</td>\n",
              "    </tr>\n",
              "    <tr>\n",
              "      <th>1267</th>\n",
              "      <td>641842338376</td>\n",
              "      <td>19829209</td>\n",
              "      <td>other_debit_cards</td>\n",
              "      <td>118335</td>\n",
              "      <td>cat_1</td>\n",
              "      <td>IND_INR</td>\n",
              "      <td>other_pcs</td>\n",
              "      <td>10000.0</td>\n",
              "      <td>2016-12-04 12:22:20+00:00</td>\n",
              "      <td>0</td>\n",
              "      <td>1</td>\n",
              "    </tr>\n",
              "    <tr>\n",
              "      <th>1420</th>\n",
              "      <td>298707250627423</td>\n",
              "      <td>19829209</td>\n",
              "      <td>other_debit_cards</td>\n",
              "      <td>118335</td>\n",
              "      <td>cat_1</td>\n",
              "      <td>IND_INR</td>\n",
              "      <td>other_pcs</td>\n",
              "      <td>60000.0</td>\n",
              "      <td>2016-12-04 12:20:07+00:00</td>\n",
              "      <td>0</td>\n",
              "      <td>1</td>\n",
              "    </tr>\n",
              "    <tr>\n",
              "      <th>1811</th>\n",
              "      <td>1165348588684337</td>\n",
              "      <td>25542916</td>\n",
              "      <td>visa_master_debit_cards</td>\n",
              "      <td>23667</td>\n",
              "      <td>cat_2</td>\n",
              "      <td>IND_INR</td>\n",
              "      <td>other_pcs</td>\n",
              "      <td>10000.0</td>\n",
              "      <td>2016-12-28 08:17:21+00:00</td>\n",
              "      <td>4</td>\n",
              "      <td>1</td>\n",
              "    </tr>\n",
              "  </tbody>\n",
              "</table>\n",
              "</div>\n",
              "      <button class=\"colab-df-convert\" onclick=\"convertToInteractive('df-5e9fa978-3619-4283-ba69-5f4b9e77e5a2')\"\n",
              "              title=\"Convert this dataframe to an interactive table.\"\n",
              "              style=\"display:none;\">\n",
              "        \n",
              "  <svg xmlns=\"http://www.w3.org/2000/svg\" height=\"24px\"viewBox=\"0 0 24 24\"\n",
              "       width=\"24px\">\n",
              "    <path d=\"M0 0h24v24H0V0z\" fill=\"none\"/>\n",
              "    <path d=\"M18.56 5.44l.94 2.06.94-2.06 2.06-.94-2.06-.94-.94-2.06-.94 2.06-2.06.94zm-11 1L8.5 8.5l.94-2.06 2.06-.94-2.06-.94L8.5 2.5l-.94 2.06-2.06.94zm10 10l.94 2.06.94-2.06 2.06-.94-2.06-.94-.94-2.06-.94 2.06-2.06.94z\"/><path d=\"M17.41 7.96l-1.37-1.37c-.4-.4-.92-.59-1.43-.59-.52 0-1.04.2-1.43.59L10.3 9.45l-7.72 7.72c-.78.78-.78 2.05 0 2.83L4 21.41c.39.39.9.59 1.41.59.51 0 1.02-.2 1.41-.59l7.78-7.78 2.81-2.81c.8-.78.8-2.07 0-2.86zM5.41 20L4 18.59l7.72-7.72 1.47 1.35L5.41 20z\"/>\n",
              "  </svg>\n",
              "      </button>\n",
              "      \n",
              "  <style>\n",
              "    .colab-df-container {\n",
              "      display:flex;\n",
              "      flex-wrap:wrap;\n",
              "      gap: 12px;\n",
              "    }\n",
              "\n",
              "    .colab-df-convert {\n",
              "      background-color: #E8F0FE;\n",
              "      border: none;\n",
              "      border-radius: 50%;\n",
              "      cursor: pointer;\n",
              "      display: none;\n",
              "      fill: #1967D2;\n",
              "      height: 32px;\n",
              "      padding: 0 0 0 0;\n",
              "      width: 32px;\n",
              "    }\n",
              "\n",
              "    .colab-df-convert:hover {\n",
              "      background-color: #E2EBFA;\n",
              "      box-shadow: 0px 1px 2px rgba(60, 64, 67, 0.3), 0px 1px 3px 1px rgba(60, 64, 67, 0.15);\n",
              "      fill: #174EA6;\n",
              "    }\n",
              "\n",
              "    [theme=dark] .colab-df-convert {\n",
              "      background-color: #3B4455;\n",
              "      fill: #D2E3FC;\n",
              "    }\n",
              "\n",
              "    [theme=dark] .colab-df-convert:hover {\n",
              "      background-color: #434B5C;\n",
              "      box-shadow: 0px 1px 3px 1px rgba(0, 0, 0, 0.15);\n",
              "      filter: drop-shadow(0px 1px 2px rgba(0, 0, 0, 0.3));\n",
              "      fill: #FFFFFF;\n",
              "    }\n",
              "  </style>\n",
              "\n",
              "      <script>\n",
              "        const buttonEl =\n",
              "          document.querySelector('#df-5e9fa978-3619-4283-ba69-5f4b9e77e5a2 button.colab-df-convert');\n",
              "        buttonEl.style.display =\n",
              "          google.colab.kernel.accessAllowed ? 'block' : 'none';\n",
              "\n",
              "        async function convertToInteractive(key) {\n",
              "          const element = document.querySelector('#df-5e9fa978-3619-4283-ba69-5f4b9e77e5a2');\n",
              "          const dataTable =\n",
              "            await google.colab.kernel.invokeFunction('convertToInteractive',\n",
              "                                                     [key], {});\n",
              "          if (!dataTable) return;\n",
              "\n",
              "          const docLinkHtml = 'Like what you see? Visit the ' +\n",
              "            '<a target=\"_blank\" href=https://colab.research.google.com/notebooks/data_table.ipynb>data table notebook</a>'\n",
              "            + ' to learn more about interactive tables.';\n",
              "          element.innerHTML = '';\n",
              "          dataTable['output_type'] = 'display_data';\n",
              "          await google.colab.output.renderOutput(dataTable, element);\n",
              "          const docLink = document.createElement('div');\n",
              "          docLink.innerHTML = docLinkHtml;\n",
              "          element.appendChild(docLink);\n",
              "        }\n",
              "      </script>\n",
              "    </div>\n",
              "  </div>\n",
              "  "
            ]
          },
          "metadata": {},
          "execution_count": 10
        }
      ]
    },
    {
      "cell_type": "code",
      "source": [
        "# Plotting a countplot to check the number of frauds per device-type.\n",
        "\n",
        "plt.figure(figsize=(10,10))\n",
        "ax = sns.countplot(x = train_data_f.device_type, data = train_data_f, order = train_data_f[\"device_type\"].value_counts().index)\n",
        "ax.bar_label(ax.containers[0], label_type = 'edge')\n",
        "plt.title(\"Fraud claims based on device type\")\n",
        "plt.show()"
      ],
      "metadata": {
        "colab": {
          "base_uri": "https://localhost:8080/",
          "height": 0
        },
        "id": "4XJY5XfcLQED",
        "outputId": "2cee2b8d-4045-4692-bf68-15f618e245cd"
      },
      "execution_count": 11,
      "outputs": [
        {
          "output_type": "display_data",
          "data": {
            "text/plain": [
              "<Figure size 720x720 with 1 Axes>"
            ],
            "image/png": "[encoded data removed]"
          },
          "metadata": {
            "needs_background": "light"
          }
        }
      ]
    },
    {
      "cell_type": "markdown",
      "source": [
        "As we can see, majority of the fradulent transactions are initiated from the devices labelled as \"other_pcs\" followed by \"android_devices\" and \"windows_pcs\" "
      ],
      "metadata": {
        "id": "IXcgwxhFmXz_"
      }
    },
    {
      "cell_type": "code",
      "source": [
        "# Plotting another countplot to check the number of fraudulent transactions per partner-category\"\n",
        "\n",
        "plt.figure(figsize=(10,10))\n",
        "ax = sns.countplot(x = train_data_f.partner_category, data = train_data_f, order = train_data_f[\"partner_category\"].value_counts().index)\n",
        "ax.bar_label(ax.containers[0], label_type = 'edge')\n",
        "plt.title(\"Fraud claims based on partner category\")\n",
        "plt.show()"
      ],
      "metadata": {
        "colab": {
          "base_uri": "https://localhost:8080/",
          "height": 0
        },
        "id": "MppBhvkjP9UL",
        "outputId": "92f14316-84a7-4d71-a633-6b913a70ef28"
      },
      "execution_count": 12,
      "outputs": [
        {
          "output_type": "display_data",
          "data": {
            "text/plain": [
              "<Figure size 720x720 with 1 Axes>"
            ],
            "image/png": "[encoded data removed]"
          },
          "metadata": {
            "needs_background": "light"
          }
        }
      ]
    },
    {
      "cell_type": "markdown",
      "source": [
        "The users which use the \"cat_1\" partners are more vulnerable to fraudulent activities."
      ],
      "metadata": {
        "id": "lyUif5rXqtko"
      }
    },
    {
      "cell_type": "code",
      "source": [
        "# Plotting a box plot to get information about the outliers of the features.\n",
        "\n",
        "train_data.plot(kind='box',subplots=True,sharex=False,sharey=False,layout=(3,3),figsize=(13,13))\n",
        "plt.show()"
      ],
      "metadata": {
        "colab": {
          "base_uri": "https://localhost:8080/",
          "height": 0
        },
        "id": "evz2Y8LUYlUd",
        "outputId": "f7274a94-09be-4d23-a26a-435320322a11"
      },
      "execution_count": 13,
      "outputs": [
        {
          "output_type": "display_data",
          "data": {
            "text/plain": [
              "<Figure size 936x936 with 9 Axes>"
            ],
            "image/png": "[encoded data removed]"
          },
          "metadata": {
            "needs_background": "light"
          }
        }
      ]
    },
    {
      "cell_type": "code",
      "source": [
        "# Plotting the density plot to analyze the shape of the distribution of various features\n",
        "\n",
        "train_data.plot(kind='density',subplots=True,sharex=False,sharey=False,layout=(3,3),figsize=(13,13))\n",
        "plt.show()"
      ],
      "metadata": {
        "colab": {
          "base_uri": "https://localhost:8080/",
          "height": 0
        },
        "id": "2A1QKOF19tny",
        "outputId": "9719960a-078e-404d-efb4-15679c08ca1d"
      },
      "execution_count": 14,
      "outputs": [
        {
          "output_type": "display_data",
          "data": {
            "text/plain": [
              "<Figure size 936x936 with 9 Axes>"
            ],
            "image/png": "[encoded data removed]"
          },
          "metadata": {
            "needs_background": "light"
          }
        }
      ]
    },
    {
      "cell_type": "markdown",
      "source": [
        "# Pre-Processing\n",
        "\n",
        " \n",
        "\n",
        "*   Feature Engineering.\n",
        "*   Handling missing values\n",
        "*   Handling outliers.\n",
        "*   Handling imbalanced data.\n",
        "*   Encoding\n",
        "*   Standardization\n",
        "\n",
        "\n",
        "\n",
        "\n",
        "\n"
      ],
      "metadata": {
        "id": "J8cYiZ60gINB"
      }
    },
    {
      "cell_type": "markdown",
      "source": [
        "\n",
        "\n",
        "*   Performing feature-engineering and gathering more insights from the data.\n"
      ],
      "metadata": {
        "id": "wp4SP2-cQCZb"
      }
    },
    {
      "cell_type": "code",
      "source": [
        "# The feature can be further divided and more data can extracted\n",
        "\n",
        "train_data['transaction_initiation'] = pd.to_datetime(train_data['transaction_initiation'])\n",
        "test_data['transaction_initiation'] = pd.to_datetime(test_data['transaction_initiation'])\n",
        "train_data['transaction_initiation'].dtypes"
      ],
      "metadata": {
        "colab": {
          "base_uri": "https://localhost:8080/"
        },
        "id": "ZkQPy9Zva7_p",
        "outputId": "a53de892-e50c-4985-8c35-8684ad77aeec"
      },
      "execution_count": 15,
      "outputs": [
        {
          "output_type": "execute_result",
          "data": {
            "text/plain": [
              "datetime64[ns, UTC]"
            ]
          },
          "metadata": {},
          "execution_count": 15
        }
      ]
    },
    {
      "cell_type": "code",
      "source": [
        "train_data['year'] = train_data['transaction_initiation'].dt.year\n",
        "train_data['month'] = train_data['transaction_initiation'].dt.month\n",
        "train_data['day'] = train_data['transaction_initiation'].dt.day\n",
        "test_data['year'] = test_data['transaction_initiation'].dt.year\n",
        "test_data['month'] = test_data['transaction_initiation'].dt.month\n",
        "test_data['day'] = test_data['transaction_initiation'].dt.day\n",
        "train_data.drop(columns='transaction_initiation', axis='1', inplace=True)\n",
        "test_data.drop(columns='transaction_initiation', axis='1', inplace=True)"
      ],
      "metadata": {
        "id": "1MNkvzjvgfO9"
      },
      "execution_count": 16,
      "outputs": []
    },
    {
      "cell_type": "code",
      "source": [
        "train_data.head()"
      ],
      "metadata": {
        "colab": {
          "base_uri": "https://localhost:8080/",
          "height": 250
        },
        "id": "wd65udGm35kA",
        "outputId": "dc3042f2-4420-45a8-864c-2c34b5697962"
      },
      "execution_count": 17,
      "outputs": [
        {
          "output_type": "execute_result",
          "data": {
            "text/plain": [
              "   transaction_number   user_id          payment_method  partner_id  \\\n",
              "0        144703125000  17539344  sbi_atm_cum_debit_card       47334   \n",
              "1      77406814453032  24710841       e_wallet_payments       78890   \n",
              "2     308929485482801  24265476       e_wallet_payments       78890   \n",
              "3     665270027747073  10240000       other_debit_cards      102557   \n",
              "4      38276160171101   5880625       other_debit_cards      118335   \n",
              "\n",
              "  partner_category  country      device_type  money_transacted  \\\n",
              "0            cat_1  IND_INR  android_devices              -5.0   \n",
              "1            cat_2  IND_INR        other_pcs             100.0   \n",
              "2            cat_2  IND_INR        other_pcs              50.0   \n",
              "3            cat_3  IND_INR        other_pcs            1000.0   \n",
              "4            cat_1  IND_INR        other_pcs             200.0   \n",
              "\n",
              "   partner_pricing_category  is_fraud  year  month  day  \n",
              "0                         2         0  2016     11   15  \n",
              "1                         2         0  2017      1   11  \n",
              "2                         2         0  2016     12    7  \n",
              "3                         2         0  2017      1   11  \n",
              "4                         2         0  2016     11   16  "
            ],
            "text/html": [
              "\n",
              "  <div id=\"df-aee202e6-7cea-44ef-951f-f21e5b402190\">\n",
              "    <div class=\"colab-df-container\">\n",
              "      <div>\n",
              "<style scoped>\n",
              "    .dataframe tbody tr th:only-of-type {\n",
              "        vertical-align: middle;\n",
              "    }\n",
              "\n",
              "    .dataframe tbody tr th {\n",
              "        vertical-align: top;\n",
              "    }\n",
              "\n",
              "    .dataframe thead th {\n",
              "        text-align: right;\n",
              "    }\n",
              "</style>\n",
              "<table border=\"1\" class=\"dataframe\">\n",
              "  <thead>\n",
              "    <tr style=\"text-align: right;\">\n",
              "      <th></th>\n",
              "      <th>transaction_number</th>\n",
              "      <th>user_id</th>\n",
              "      <th>payment_method</th>\n",
              "      <th>partner_id</th>\n",
              "      <th>partner_category</th>\n",
              "      <th>country</th>\n",
              "      <th>device_type</th>\n",
              "      <th>money_transacted</th>\n",
              "      <th>partner_pricing_category</th>\n",
              "      <th>is_fraud</th>\n",
              "      <th>year</th>\n",
              "      <th>month</th>\n",
              "      <th>day</th>\n",
              "    </tr>\n",
              "  </thead>\n",
              "  <tbody>\n",
              "    <tr>\n",
              "      <th>0</th>\n",
              "      <td>144703125000</td>\n",
              "      <td>17539344</td>\n",
              "      <td>sbi_atm_cum_debit_card</td>\n",
              "      <td>47334</td>\n",
              "      <td>cat_1</td>\n",
              "      <td>IND_INR</td>\n",
              "      <td>android_devices</td>\n",
              "      <td>-5.0</td>\n",
              "      <td>2</td>\n",
              "      <td>0</td>\n",
              "      <td>2016</td>\n",
              "      <td>11</td>\n",
              "      <td>15</td>\n",
              "    </tr>\n",
              "    <tr>\n",
              "      <th>1</th>\n",
              "      <td>77406814453032</td>\n",
              "      <td>24710841</td>\n",
              "      <td>e_wallet_payments</td>\n",
              "      <td>78890</td>\n",
              "      <td>cat_2</td>\n",
              "      <td>IND_INR</td>\n",
              "      <td>other_pcs</td>\n",
              "      <td>100.0</td>\n",
              "      <td>2</td>\n",
              "      <td>0</td>\n",
              "      <td>2017</td>\n",
              "      <td>1</td>\n",
              "      <td>11</td>\n",
              "    </tr>\n",
              "    <tr>\n",
              "      <th>2</th>\n",
              "      <td>308929485482801</td>\n",
              "      <td>24265476</td>\n",
              "      <td>e_wallet_payments</td>\n",
              "      <td>78890</td>\n",
              "      <td>cat_2</td>\n",
              "      <td>IND_INR</td>\n",
              "      <td>other_pcs</td>\n",
              "      <td>50.0</td>\n",
              "      <td>2</td>\n",
              "      <td>0</td>\n",
              "      <td>2016</td>\n",
              "      <td>12</td>\n",
              "      <td>7</td>\n",
              "    </tr>\n",
              "    <tr>\n",
              "      <th>3</th>\n",
              "      <td>665270027747073</td>\n",
              "      <td>10240000</td>\n",
              "      <td>other_debit_cards</td>\n",
              "      <td>102557</td>\n",
              "      <td>cat_3</td>\n",
              "      <td>IND_INR</td>\n",
              "      <td>other_pcs</td>\n",
              "      <td>1000.0</td>\n",
              "      <td>2</td>\n",
              "      <td>0</td>\n",
              "      <td>2017</td>\n",
              "      <td>1</td>\n",
              "      <td>11</td>\n",
              "    </tr>\n",
              "    <tr>\n",
              "      <th>4</th>\n",
              "      <td>38276160171101</td>\n",
              "      <td>5880625</td>\n",
              "      <td>other_debit_cards</td>\n",
              "      <td>118335</td>\n",
              "      <td>cat_1</td>\n",
              "      <td>IND_INR</td>\n",
              "      <td>other_pcs</td>\n",
              "      <td>200.0</td>\n",
              "      <td>2</td>\n",
              "      <td>0</td>\n",
              "      <td>2016</td>\n",
              "      <td>11</td>\n",
              "      <td>16</td>\n",
              "    </tr>\n",
              "  </tbody>\n",
              "</table>\n",
              "</div>\n",
              "      <button class=\"colab-df-convert\" onclick=\"convertToInteractive('df-aee202e6-7cea-44ef-951f-f21e5b402190')\"\n",
              "              title=\"Convert this dataframe to an interactive table.\"\n",
              "              style=\"display:none;\">\n",
              "        \n",
              "  <svg xmlns=\"http://www.w3.org/2000/svg\" height=\"24px\"viewBox=\"0 0 24 24\"\n",
              "       width=\"24px\">\n",
              "    <path d=\"M0 0h24v24H0V0z\" fill=\"none\"/>\n",
              "    <path d=\"M18.56 5.44l.94 2.06.94-2.06 2.06-.94-2.06-.94-.94-2.06-.94 2.06-2.06.94zm-11 1L8.5 8.5l.94-2.06 2.06-.94-2.06-.94L8.5 2.5l-.94 2.06-2.06.94zm10 10l.94 2.06.94-2.06 2.06-.94-2.06-.94-.94-2.06-.94 2.06-2.06.94z\"/><path d=\"M17.41 7.96l-1.37-1.37c-.4-.4-.92-.59-1.43-.59-.52 0-1.04.2-1.43.59L10.3 9.45l-7.72 7.72c-.78.78-.78 2.05 0 2.83L4 21.41c.39.39.9.59 1.41.59.51 0 1.02-.2 1.41-.59l7.78-7.78 2.81-2.81c.8-.78.8-2.07 0-2.86zM5.41 20L4 18.59l7.72-7.72 1.47 1.35L5.41 20z\"/>\n",
              "  </svg>\n",
              "      </button>\n",
              "      \n",
              "  <style>\n",
              "    .colab-df-container {\n",
              "      display:flex;\n",
              "      flex-wrap:wrap;\n",
              "      gap: 12px;\n",
              "    }\n",
              "\n",
              "    .colab-df-convert {\n",
              "      background-color: #E8F0FE;\n",
              "      border: none;\n",
              "      border-radius: 50%;\n",
              "      cursor: pointer;\n",
              "      display: none;\n",
              "      fill: #1967D2;\n",
              "      height: 32px;\n",
              "      padding: 0 0 0 0;\n",
              "      width: 32px;\n",
              "    }\n",
              "\n",
              "    .colab-df-convert:hover {\n",
              "      background-color: #E2EBFA;\n",
              "      box-shadow: 0px 1px 2px rgba(60, 64, 67, 0.3), 0px 1px 3px 1px rgba(60, 64, 67, 0.15);\n",
              "      fill: #174EA6;\n",
              "    }\n",
              "\n",
              "    [theme=dark] .colab-df-convert {\n",
              "      background-color: #3B4455;\n",
              "      fill: #D2E3FC;\n",
              "    }\n",
              "\n",
              "    [theme=dark] .colab-df-convert:hover {\n",
              "      background-color: #434B5C;\n",
              "      box-shadow: 0px 1px 3px 1px rgba(0, 0, 0, 0.15);\n",
              "      filter: drop-shadow(0px 1px 2px rgba(0, 0, 0, 0.3));\n",
              "      fill: #FFFFFF;\n",
              "    }\n",
              "  </style>\n",
              "\n",
              "      <script>\n",
              "        const buttonEl =\n",
              "          document.querySelector('#df-aee202e6-7cea-44ef-951f-f21e5b402190 button.colab-df-convert');\n",
              "        buttonEl.style.display =\n",
              "          google.colab.kernel.accessAllowed ? 'block' : 'none';\n",
              "\n",
              "        async function convertToInteractive(key) {\n",
              "          const element = document.querySelector('#df-aee202e6-7cea-44ef-951f-f21e5b402190');\n",
              "          const dataTable =\n",
              "            await google.colab.kernel.invokeFunction('convertToInteractive',\n",
              "                                                     [key], {});\n",
              "          if (!dataTable) return;\n",
              "\n",
              "          const docLinkHtml = 'Like what you see? Visit the ' +\n",
              "            '<a target=\"_blank\" href=https://colab.research.google.com/notebooks/data_table.ipynb>data table notebook</a>'\n",
              "            + ' to learn more about interactive tables.';\n",
              "          element.innerHTML = '';\n",
              "          dataTable['output_type'] = 'display_data';\n",
              "          await google.colab.output.renderOutput(dataTable, element);\n",
              "          const docLink = document.createElement('div');\n",
              "          docLink.innerHTML = docLinkHtml;\n",
              "          element.appendChild(docLink);\n",
              "        }\n",
              "      </script>\n",
              "    </div>\n",
              "  </div>\n",
              "  "
            ]
          },
          "metadata": {},
          "execution_count": 17
        }
      ]
    },
    {
      "cell_type": "code",
      "source": [
        "# Visualizing using the new features\n",
        "\n",
        "new_cols = [\"year\", \"day\", \"month\"]\n",
        "train_data[new_cols].plot(kind='density',subplots=True,sharex=False,sharey=False,layout=(3,3),figsize=(13,13))\n",
        "plt.show()"
      ],
      "metadata": {
        "colab": {
          "base_uri": "https://localhost:8080/",
          "height": 260
        },
        "id": "Uj-Wz5R6-C4p",
        "outputId": "52e4f0ae-4faf-42b7-bd44-2b8f946eccd2"
      },
      "execution_count": 18,
      "outputs": [
        {
          "output_type": "display_data",
          "data": {
            "text/plain": [
              "<Figure size 936x936 with 9 Axes>"
            ],
            "image/png": "[encoded data removed]"
          },
          "metadata": {
            "needs_background": "light"
          }
        }
      ]
    },
    {
      "cell_type": "markdown",
      "source": [
        "**Dropping duplicate records (if-any)**"
      ],
      "metadata": {
        "id": "PBwero3SQnQP"
      }
    },
    {
      "cell_type": "code",
      "source": [
        "train_data.drop_duplicates(inplace=True)\n",
        "test_data.drop_duplicates(inplace=True)"
      ],
      "metadata": {
        "id": "OvhQCNHsEOCo"
      },
      "execution_count": 19,
      "outputs": []
    },
    {
      "cell_type": "markdown",
      "source": [
        "**Checking for Null values** "
      ],
      "metadata": {
        "id": "Qckl4GzuQymm"
      }
    },
    {
      "cell_type": "code",
      "source": [
        "train_data.isnull().sum()"
      ],
      "metadata": {
        "colab": {
          "base_uri": "https://localhost:8080/"
        },
        "id": "BECHRDrrCCho",
        "outputId": "bddaba3d-9f75-4dd3-9e30-5319120b3809"
      },
      "execution_count": 20,
      "outputs": [
        {
          "output_type": "execute_result",
          "data": {
            "text/plain": [
              "transaction_number          0\n",
              "user_id                     0\n",
              "payment_method              0\n",
              "partner_id                  0\n",
              "partner_category            0\n",
              "country                     0\n",
              "device_type                 0\n",
              "money_transacted            0\n",
              "partner_pricing_category    0\n",
              "is_fraud                    0\n",
              "year                        0\n",
              "month                       0\n",
              "day                         0\n",
              "dtype: int64"
            ]
          },
          "metadata": {},
          "execution_count": 20
        }
      ]
    },
    {
      "cell_type": "code",
      "source": [
        "train_data.dtypes"
      ],
      "metadata": {
        "colab": {
          "base_uri": "https://localhost:8080/"
        },
        "id": "1rMmctqIrsJA",
        "outputId": "fc258b55-c250-45e5-d8d9-4f018fdf1042"
      },
      "execution_count": 21,
      "outputs": [
        {
          "output_type": "execute_result",
          "data": {
            "text/plain": [
              "transaction_number            int64\n",
              "user_id                       int64\n",
              "payment_method               object\n",
              "partner_id                    int64\n",
              "partner_category             object\n",
              "country                      object\n",
              "device_type                  object\n",
              "money_transacted            float64\n",
              "partner_pricing_category      int64\n",
              "is_fraud                      int64\n",
              "year                          int64\n",
              "month                         int64\n",
              "day                           int64\n",
              "dtype: object"
            ]
          },
          "metadata": {},
          "execution_count": 21
        }
      ]
    },
    {
      "cell_type": "markdown",
      "source": [
        "**Dropping the features which are continuous or which do not have much impact on the target-variable**\n"
      ],
      "metadata": {
        "id": "De9E0BI-Q9Rh"
      }
    },
    {
      "cell_type": "code",
      "source": [
        "dataframe = test_data['transaction_number']     # Saving this feature as it may be useful for identifying a particular transaction\n",
        "train_data=train_data.drop(['transaction_number','country','user_id','year','month','day'],axis=1)\n",
        "test_data=test_data.drop(['transaction_number','country','user_id','year','month','day'],axis=1)"
      ],
      "metadata": {
        "id": "hJAVtR6hrt0j"
      },
      "execution_count": 22,
      "outputs": []
    },
    {
      "cell_type": "markdown",
      "source": [
        "**Converting the columns which should be category**"
      ],
      "metadata": {
        "id": "7danq2ocRfLx"
      }
    },
    {
      "cell_type": "code",
      "source": [
        "for col in ['payment_method','partner_category','device_type', 'partner_pricing_category', 'is_fraud']:\n",
        "    train_data[col] = train_data[col].astype('category')"
      ],
      "metadata": {
        "id": "h4Xz4VqvCuIu"
      },
      "execution_count": 23,
      "outputs": []
    },
    {
      "cell_type": "code",
      "source": [
        "for col in ['payment_method','partner_category','device_type', 'partner_pricing_category']:\n",
        "    test_data[col] = test_data[col].astype('category')"
      ],
      "metadata": {
        "id": "L5UrfY-6DDR0"
      },
      "execution_count": 24,
      "outputs": []
    },
    {
      "cell_type": "markdown",
      "source": [
        "**HANDLING OUTLIERS**\n",
        "\n",
        "\n",
        "*   Finding the Q1, Q3, IQR, Lower Bound, Upper Bound\n",
        "*   Replacing the outliers with mean of the IQR\n",
        "\n"
      ],
      "metadata": {
        "id": "ucrlOgA_RrBV"
      }
    },
    {
      "cell_type": "code",
      "source": [
        "cols = ['money_transacted', 'partner_id']\n",
        "Q1 = train_data[cols].quantile(0.25)\n",
        "Q3 = train_data[cols].quantile(0.75)\n",
        "IQR = Q3 - Q1\n",
        "lower_extreme = Q1 - 1.5 * IQR\n",
        "upper_extreme = Q3 + 1.5 * IQR\n",
        "print(IQR)"
      ],
      "metadata": {
        "colab": {
          "base_uri": "https://localhost:8080/"
        },
        "id": "Mp7INnpzGHWK",
        "outputId": "8e509f73-c385-4976-c11e-326e7cb272d2"
      },
      "execution_count": 25,
      "outputs": [
        {
          "output_type": "stream",
          "name": "stdout",
          "text": [
            "money_transacted       53.0\n",
            "partner_id          55223.0\n",
            "dtype: float64\n"
          ]
        }
      ]
    },
    {
      "cell_type": "markdown",
      "source": [
        "*Replacing the outliers with the mean of the IQR*"
      ],
      "metadata": {
        "id": "K_D0k15lSH9K"
      }
    },
    {
      "cell_type": "code",
      "source": [
        "out1 = train_data[(train_data[cols]<lower_extreme)].values\n",
        "out2 = train_data[(train_data[cols]>upper_extreme)].values\n",
        "for cols in cols:\n",
        "  mean = train_data[cols].mean()\n",
        "  train_data[cols].replace(out1, mean, inplace = True)\n",
        "  train_data[cols].replace(out2, mean, inplace = True)"
      ],
      "metadata": {
        "id": "xJuSBV4BGXYY"
      },
      "execution_count": 26,
      "outputs": []
    },
    {
      "cell_type": "code",
      "source": [
        "cols = ['money_transacted', 'partner_id']\n",
        "Q1 = test_data[cols].quantile(0.25)\n",
        "Q3 = test_data[cols].quantile(0.75)\n",
        "IQR = Q3 - Q1\n",
        "lower_extreme = Q1 - 1.5 * IQR\n",
        "upper_extreme = Q3 + 1.5 * IQR\n",
        "print(IQR)"
      ],
      "metadata": {
        "colab": {
          "base_uri": "https://localhost:8080/"
        },
        "id": "ClM4Fdc4KWW-",
        "outputId": "c4b49797-27d6-4b35-a72c-b15efbb88124"
      },
      "execution_count": 27,
      "outputs": [
        {
          "output_type": "stream",
          "name": "stdout",
          "text": [
            "money_transacted       61.0\n",
            "partner_id          55223.0\n",
            "dtype: float64\n"
          ]
        }
      ]
    },
    {
      "cell_type": "code",
      "source": [
        "out1 = test_data[(test_data[cols]<lower_extreme)].values\n",
        "out2 = test_data[(test_data[cols]>upper_extreme)].values\n",
        "for cols in cols:\n",
        "  mean = test_data[cols].mean()\n",
        "  test_data[cols].replace(out1, mean, inplace = True)\n",
        "  test_data[cols].replace(out2, mean, inplace = True)"
      ],
      "metadata": {
        "id": "oOs_yItAKODi"
      },
      "execution_count": 28,
      "outputs": []
    },
    {
      "cell_type": "markdown",
      "source": [
        "**Encoding**\n",
        "\n",
        "*Converting categorical features into numerical*"
      ],
      "metadata": {
        "id": "8l24sUxcSN_v"
      }
    },
    {
      "cell_type": "code",
      "source": [
        "# Converting categorical features into numerical using LabelEncoder\n",
        "\n",
        "cat_attr_names = train_data.select_dtypes(include=['category']).columns\n",
        "label_encoder = preprocessing.LabelEncoder()\n",
        "for cat_attr_names in cat_attr_names:\n",
        "  train_data[cat_attr_names] = label_encoder.fit_transform(train_data[cat_attr_names])\n",
        "#train_data = pd.get_dummies(columns=cat_attr_names, data=train_data, prefix=cat_attr_names, prefix_sep=\"_\", drop_first=True)\n",
        "cat_attr_names = test_data.select_dtypes(include=['category']).columns\n",
        "for cat_attr_names in cat_attr_names:\n",
        "  test_data[cat_attr_names] = label_encoder.fit_transform(test_data[cat_attr_names])\n",
        "#test_data = pd.get_dummies(columns=cat_attr_names, data=test_data, prefix=cat_attr_names, prefix_sep=\"_\", drop_first=True)"
      ],
      "metadata": {
        "id": "SzshMiHMsfeE"
      },
      "execution_count": 29,
      "outputs": []
    },
    {
      "cell_type": "markdown",
      "source": [
        "**TRAIN TEST SPLIT**\n",
        "\n",
        "*Dividing the data into two different sets \"Train\" and \"Test\"*"
      ],
      "metadata": {
        "id": "NzaYIf1tSjW3"
      }
    },
    {
      "cell_type": "code",
      "source": [
        "# Performing Train-Test-Split\n",
        "\n",
        "y=train_data[\"is_fraud\"]\n",
        "X=train_data.drop('is_fraud', axis=1)\n",
        "X_train,X_test,y_train,y_test = train_test_split(X,y,test_size=0.3,random_state=123)"
      ],
      "metadata": {
        "id": "h9Uh-dsX8xKJ"
      },
      "execution_count": 30,
      "outputs": []
    },
    {
      "cell_type": "code",
      "source": [
        "print(X_train.shape)\n",
        "print(X_test.shape)\n",
        "print(y_train.shape)\n",
        "print(y_test.shape)"
      ],
      "metadata": {
        "colab": {
          "base_uri": "https://localhost:8080/"
        },
        "id": "n_W5qIM1-6Fm",
        "outputId": "43fb105f-6df8-4277-9632-6f401b1bed70"
      },
      "execution_count": 31,
      "outputs": [
        {
          "output_type": "stream",
          "name": "stdout",
          "text": [
            "(53570, 6)\n",
            "(22959, 6)\n",
            "(53570,)\n",
            "(22959,)\n"
          ]
        }
      ]
    },
    {
      "cell_type": "markdown",
      "source": [
        "**Handling class-imbalance using SMOTE**"
      ],
      "metadata": {
        "id": "g4ge2FAIYpII"
      }
    },
    {
      "cell_type": "code",
      "source": [
        "# from imblearn.over_sampling import SMOTE\n",
        "# oversampled = SMOTE(random_state=0)\n",
        "# X_train, y_train = oversampled.fit_resample(X_train, y_train)"
      ],
      "metadata": {
        "id": "ySgADII_GOBI"
      },
      "execution_count": 32,
      "outputs": []
    },
    {
      "cell_type": "markdown",
      "source": [
        "**Standardization**\n",
        "\n",
        "*Standardizing or scaling the feature values into a more discrete limit such as [0,1] or [-1,1]*"
      ],
      "metadata": {
        "id": "z_aOPSMdTLVT"
      }
    },
    {
      "cell_type": "code",
      "source": [
        "num_atr = X_train.select_dtypes(['int64','float64']).columns\n",
        "num_atr"
      ],
      "metadata": {
        "colab": {
          "base_uri": "https://localhost:8080/"
        },
        "id": "xF7P4VS9BKHe",
        "outputId": "8a752dfe-0bc5-44fa-c5b5-f46b6f43785c"
      },
      "execution_count": 33,
      "outputs": [
        {
          "output_type": "execute_result",
          "data": {
            "text/plain": [
              "Index(['payment_method', 'partner_id', 'partner_category', 'device_type',\n",
              "       'money_transacted', 'partner_pricing_category'],\n",
              "      dtype='object')"
            ]
          },
          "metadata": {},
          "execution_count": 33
        }
      ]
    },
    {
      "cell_type": "code",
      "source": [
        "# Standardization of the features using StandardScaler() \n",
        "\n",
        "scaler=StandardScaler()\n",
        "scaler.fit(X_train[num_atr])\n",
        "X_train[num_atr]=scaler.transform(X_train[num_atr])\n",
        "X_test[num_atr]=scaler.transform(X_test[num_atr])"
      ],
      "metadata": {
        "id": "TGNdTOAQBcy0"
      },
      "execution_count": 34,
      "outputs": []
    },
    {
      "cell_type": "markdown",
      "source": [
        "# Model Building and Evaluating\n",
        "\n",
        "**Building and fitting the data into various types of models**\n",
        "\n",
        "**Choosing the best model based on the metrics**"
      ],
      "metadata": {
        "id": "jNNcJnPLDwuA"
      }
    },
    {
      "cell_type": "code",
      "source": [
        "# Building various models \n",
        "\n",
        "model1=KNeighborsClassifier()\n",
        "model2=LogisticRegression()\n",
        "model3=DecisionTreeClassifier()\n",
        "model4=RandomForestClassifier()\n",
        "model5=XGBClassifier()"
      ],
      "metadata": {
        "id": "Oq6VqMA_Fx0F"
      },
      "execution_count": 35,
      "outputs": []
    },
    {
      "cell_type": "code",
      "source": [
        "# Fitting the data into respective models\n",
        "\n",
        "model1.fit(X_train,y_train)\n",
        "model2.fit(X_train,y_train)\n",
        "model3.fit(X_train,y_train)\n",
        "model4.fit(X_train,y_train)\n",
        "model5.fit(X_train,y_train)"
      ],
      "metadata": {
        "colab": {
          "base_uri": "https://localhost:8080/",
          "height": 249
        },
        "id": "VR872YxSGkXk",
        "outputId": "ad9d57f8-aad4-437a-ecc0-4b8ee7957f2e"
      },
      "execution_count": 36,
      "outputs": [
        {
          "output_type": "execute_result",
          "data": {
            "text/plain": [
              "XGBClassifier(base_score=None, booster=None, callbacks=None,\n",
              "              colsample_bylevel=None, colsample_bynode=None,\n",
              "              colsample_bytree=None, early_stopping_rounds=None,\n",
              "              enable_categorical=False, eval_metric=None, feature_types=None,\n",
              "              gamma=None, gpu_id=None, grow_policy=None, importance_type=None,\n",
              "              interaction_constraints=None, learning_rate=None, max_bin=None,\n",
              "              max_cat_threshold=None, max_cat_to_onehot=None,\n",
              "              max_delta_step=None, max_depth=None, max_leaves=None,\n",
              "              min_child_weight=None, missing=nan, monotone_constraints=None,\n",
              "              n_estimators=100, n_jobs=None, num_parallel_tree=None,\n",
              "              predictor=None, random_state=None, ...)"
            ],
            "text/html": [
              "<style>#sk-container-id-1 {color: black;background-color: white;}#sk-container-id-1 pre{padding: 0;}#sk-container-id-1 div.sk-toggleable {background-color: white;}#sk-container-id-1 label.sk-toggleable__label {cursor: pointer;display: block;width: 100%;margin-bottom: 0;padding: 0.3em;box-sizing: border-box;text-align: center;}#sk-container-id-1 label.sk-toggleable__label-arrow:before {content: \"▸\";float: left;margin-right: 0.25em;color: #696969;}#sk-container-id-1 label.sk-toggleable__label-arrow:hover:before {color: black;}#sk-container-id-1 div.sk-estimator:hover label.sk-toggleable__label-arrow:before {color: black;}#sk-container-id-1 div.sk-toggleable__content {max-height: 0;max-width: 0;overflow: hidden;text-align: left;background-color: #f0f8ff;}#sk-container-id-1 div.sk-toggleable__content pre {margin: 0.2em;color: black;border-radius: 0.25em;background-color: #f0f8ff;}#sk-container-id-1 input.sk-toggleable__control:checked~div.sk-toggleable__content {max-height: 200px;max-width: 100%;overflow: auto;}#sk-container-id-1 input.sk-toggleable__control:checked~label.sk-toggleable__label-arrow:before {content: \"▾\";}#sk-container-id-1 div.sk-estimator input.sk-toggleable__control:checked~label.sk-toggleable__label {background-color: #d4ebff;}#sk-container-id-1 div.sk-label input.sk-toggleable__control:checked~label.sk-toggleable__label {background-color: #d4ebff;}#sk-container-id-1 input.sk-hidden--visually {border: 0;clip: rect(1px 1px 1px 1px);clip: rect(1px, 1px, 1px, 1px);height: 1px;margin: -1px;overflow: hidden;padding: 0;position: absolute;width: 1px;}#sk-container-id-1 div.sk-estimator {font-family: monospace;background-color: #f0f8ff;border: 1px dotted black;border-radius: 0.25em;box-sizing: border-box;margin-bottom: 0.5em;}#sk-container-id-1 div.sk-estimator:hover {background-color: #d4ebff;}#sk-container-id-1 div.sk-parallel-item::after {content: \"\";width: 100%;border-bottom: 1px solid gray;flex-grow: 1;}#sk-container-id-1 div.sk-label:hover label.sk-toggleable__label {background-color: #d4ebff;}#sk-container-id-1 div.sk-serial::before {content: \"\";position: absolute;border-left: 1px solid gray;box-sizing: border-box;top: 0;bottom: 0;left: 50%;z-index: 0;}#sk-container-id-1 div.sk-serial {display: flex;flex-direction: column;align-items: center;background-color: white;padding-right: 0.2em;padding-left: 0.2em;position: relative;}#sk-container-id-1 div.sk-item {position: relative;z-index: 1;}#sk-container-id-1 div.sk-parallel {display: flex;align-items: stretch;justify-content: center;background-color: white;position: relative;}#sk-container-id-1 div.sk-item::before, #sk-container-id-1 div.sk-parallel-item::before {content: \"\";position: absolute;border-left: 1px solid gray;box-sizing: border-box;top: 0;bottom: 0;left: 50%;z-index: -1;}#sk-container-id-1 div.sk-parallel-item {display: flex;flex-direction: column;z-index: 1;position: relative;background-color: white;}#sk-container-id-1 div.sk-parallel-item:first-child::after {align-self: flex-end;width: 50%;}#sk-container-id-1 div.sk-parallel-item:last-child::after {align-self: flex-start;width: 50%;}#sk-container-id-1 div.sk-parallel-item:only-child::after {width: 0;}#sk-container-id-1 div.sk-dashed-wrapped {border: 1px dashed gray;margin: 0 0.4em 0.5em 0.4em;box-sizing: border-box;padding-bottom: 0.4em;background-color: white;}#sk-container-id-1 div.sk-label label {font-family: monospace;font-weight: bold;display: inline-block;line-height: 1.2em;}#sk-container-id-1 div.sk-label-container {text-align: center;}#sk-container-id-1 div.sk-container {/* jupyter's `normalize.less` sets `[hidden] { display: none; }` but bootstrap.min.css set `[hidden] { display: none !important; }` so we also need the `!important` here to be able to override the default hidden behavior on the sphinx rendered scikit-learn.org. See: https://github.com/scikit-learn/scikit-learn/issues/21755 */display: inline-block !important;position: relative;}#sk-container-id-1 div.sk-text-repr-fallback {display: none;}</style><div id=\"sk-container-id-1\" class=\"sk-top-container\"><div class=\"sk-text-repr-fallback\"><pre>XGBClassifier(base_score=None, booster=None, callbacks=None,\n",
              "              colsample_bylevel=None, colsample_bynode=None,\n",
              "              colsample_bytree=None, early_stopping_rounds=None,\n",
              "              enable_categorical=False, eval_metric=None, feature_types=None,\n",
              "              gamma=None, gpu_id=None, grow_policy=None, importance_type=None,\n",
              "              interaction_constraints=None, learning_rate=None, max_bin=None,\n",
              "              max_cat_threshold=None, max_cat_to_onehot=None,\n",
              "              max_delta_step=None, max_depth=None, max_leaves=None,\n",
              "              min_child_weight=None, missing=nan, monotone_constraints=None,\n",
              "              n_estimators=100, n_jobs=None, num_parallel_tree=None,\n",
              "              predictor=None, random_state=None, ...)</pre><b>In a Jupyter environment, please rerun this cell to show the HTML representation or trust the notebook. <br />On GitHub, the HTML representation is unable to render, please try loading this page with nbviewer.org.</b></div><div class=\"sk-container\" hidden><div class=\"sk-item\"><div class=\"sk-estimator sk-toggleable\"><input class=\"sk-toggleable__control sk-hidden--visually\" id=\"sk-estimator-id-1\" type=\"checkbox\" checked><label for=\"sk-estimator-id-1\" class=\"sk-toggleable__label sk-toggleable__label-arrow\">XGBClassifier</label><div class=\"sk-toggleable__content\"><pre>XGBClassifier(base_score=None, booster=None, callbacks=None,\n",
              "              colsample_bylevel=None, colsample_bynode=None,\n",
              "              colsample_bytree=None, early_stopping_rounds=None,\n",
              "              enable_categorical=False, eval_metric=None, feature_types=None,\n",
              "              gamma=None, gpu_id=None, grow_policy=None, importance_type=None,\n",
              "              interaction_constraints=None, learning_rate=None, max_bin=None,\n",
              "              max_cat_threshold=None, max_cat_to_onehot=None,\n",
              "              max_delta_step=None, max_depth=None, max_leaves=None,\n",
              "              min_child_weight=None, missing=nan, monotone_constraints=None,\n",
              "              n_estimators=100, n_jobs=None, num_parallel_tree=None,\n",
              "              predictor=None, random_state=None, ...)</pre></div></div></div></div></div>"
            ]
          },
          "metadata": {},
          "execution_count": 36
        }
      ]
    },
    {
      "cell_type": "code",
      "source": [
        "# Predicting using the \"Train\" dataset\n",
        "\n",
        "train_prds1=model1.predict(X_train)\n",
        "train_prds2=model2.predict(X_train)\n",
        "train_prds3=model3.predict(X_train)\n",
        "train_prds4=model4.predict(X_train)\n",
        "train_prds5=model5.predict(X_train)"
      ],
      "metadata": {
        "id": "layedC7eGnDi"
      },
      "execution_count": 37,
      "outputs": []
    },
    {
      "cell_type": "code",
      "source": [
        "# Predicting using the \"Test\" dataset\n",
        "\n",
        "test_prds1=model1.predict(X_test)\n",
        "test_prds2=model2.predict(X_test)\n",
        "test_prds3=model3.predict(X_test)\n",
        "test_prds4=model4.predict(X_test)\n",
        "test_prds5=model5.predict(X_test)"
      ],
      "metadata": {
        "id": "2ycy26XSGpIH"
      },
      "execution_count": 38,
      "outputs": []
    },
    {
      "cell_type": "markdown",
      "source": [
        "**Evaluation**\n",
        "\n",
        "*Various evaluation metrics are available, we'll be choosing the F1-Score*"
      ],
      "metadata": {
        "id": "xPUYnKv3UTJf"
      }
    },
    {
      "cell_type": "code",
      "source": [
        "print('========Train=======')\n",
        "print(f\"Confusion Matrix of KNN \\n{confusion_matrix(y_train, train_prds1)}\")\n",
        "print('========Train=======')\n",
        "print(f\"Confusion Matrix of LR \\n{confusion_matrix(y_train, train_prds2)}\")\n",
        "print('========Train=======')\n",
        "print(f\"Confusion Matrix of DT \\n{confusion_matrix(y_train, train_prds3)}\")\n",
        "print('========Train=======')\n",
        "print(f\"Confusion Matrix of RFC \\n{confusion_matrix(y_train, train_prds4)}\")\n",
        "print('========Train=======')\n",
        "print(f\"Confusion Matrix of XGB \\n{confusion_matrix(y_train, train_prds5)}\")"
      ],
      "metadata": {
        "colab": {
          "base_uri": "https://localhost:8080/"
        },
        "id": "v102vibLNEaL",
        "outputId": "7c43a912-cad5-49ac-97fd-d4d95e5bd398"
      },
      "execution_count": 39,
      "outputs": [
        {
          "output_type": "stream",
          "name": "stdout",
          "text": [
            "========Train=======\n",
            "Confusion Matrix of KNN \n",
            "[[53466     2]\n",
            " [   26    76]]\n",
            "========Train=======\n",
            "Confusion Matrix of LR \n",
            "[[53452    16]\n",
            " [   72    30]]\n",
            "========Train=======\n",
            "Confusion Matrix of DT \n",
            "[[53467     1]\n",
            " [   11    91]]\n",
            "========Train=======\n",
            "Confusion Matrix of RFC \n",
            "[[53467     1]\n",
            " [   11    91]]\n",
            "========Train=======\n",
            "Confusion Matrix of XGB \n",
            "[[53467     1]\n",
            " [   13    89]]\n"
          ]
        }
      ]
    },
    {
      "cell_type": "code",
      "source": [
        "print('========Test=======')\n",
        "print(f\"Confusion Matrix of KNN \\n{confusion_matrix(y_test, test_prds1)}\")\n",
        "print('========Test=======')\n",
        "print(f\"Confusion Matrix of LR \\n{confusion_matrix(y_test, test_prds2)}\")\n",
        "print('========Test=======')\n",
        "print(f\"Confusion Matrix of DT \\n{confusion_matrix(y_test, test_prds3)}\")\n",
        "print('========Test=======')\n",
        "print(f\"Confusion Matrix of RFC \\n{confusion_matrix(y_test, test_prds4)}\")\n",
        "print('========Test=======')\n",
        "print(f\"Confusion Matrix of XGB \\n{confusion_matrix(y_test, test_prds5)}\")"
      ],
      "metadata": {
        "colab": {
          "base_uri": "https://localhost:8080/"
        },
        "id": "_V6g7yPYP8GH",
        "outputId": "ea6918d0-0093-460b-a89c-43f45083a9ae"
      },
      "execution_count": 40,
      "outputs": [
        {
          "output_type": "stream",
          "name": "stdout",
          "text": [
            "========Test=======\n",
            "Confusion Matrix of KNN \n",
            "[[22907     0]\n",
            " [   18    34]]\n",
            "========Test=======\n",
            "Confusion Matrix of LR \n",
            "[[22899     8]\n",
            " [   34    18]]\n",
            "========Test=======\n",
            "Confusion Matrix of DT \n",
            "[[22906     1]\n",
            " [    9    43]]\n",
            "========Test=======\n",
            "Confusion Matrix of RFC \n",
            "[[22905     2]\n",
            " [   13    39]]\n",
            "========Test=======\n",
            "Confusion Matrix of XGB \n",
            "[[22906     1]\n",
            " [   10    42]]\n"
          ]
        }
      ]
    },
    {
      "cell_type": "code",
      "source": [
        "print(\"train f1_score of KNeighborsClassifier :\",f1_score (y_train,train_prds1,))\n",
        "print(\"train f1_score of LogisticRegression :\", f1_score(y_train,train_prds2))\n",
        "print(\"train f1_score of DecisionTreeClassifier :\" ,f1_score(y_train,train_prds3))\n",
        "print(\"train f1_score of RandomForestClassifier :\" ,f1_score(y_train,train_prds4))\n",
        "print(\"train f1_score of XGBClassifier :\" ,f1_score(y_train,train_prds5))"
      ],
      "metadata": {
        "colab": {
          "base_uri": "https://localhost:8080/"
        },
        "id": "YNnr3N3_LQXK",
        "outputId": "d18e0ebe-042d-4755-f8f2-64cde072957a"
      },
      "execution_count": 41,
      "outputs": [
        {
          "output_type": "stream",
          "name": "stdout",
          "text": [
            "train f1_score of KNeighborsClassifier : 0.8444444444444443\n",
            "train f1_score of LogisticRegression : 0.4054054054054054\n",
            "train f1_score of DecisionTreeClassifier : 0.9381443298969072\n",
            "train f1_score of RandomForestClassifier : 0.9381443298969072\n",
            "train f1_score of XGBClassifier : 0.9270833333333334\n"
          ]
        }
      ]
    },
    {
      "cell_type": "code",
      "source": [
        "print(\"test f1_score of KNeighborsClassifier :\" ,f1_score(y_test,test_prds1))\n",
        "print(\"test f1_score of LogisticRegression :\" ,f1_score(y_test,test_prds2))\n",
        "print(\"test f1_score of DecisionTreeClassifier :\" ,f1_score(y_test,test_prds3))\n",
        "print(\"test f1_score of RandomForestClassifier :\" ,f1_score(y_test,test_prds4))\n",
        "print(\"test f1_score of XGBClassifier :\" ,f1_score(y_test,test_prds5))"
      ],
      "metadata": {
        "colab": {
          "base_uri": "https://localhost:8080/"
        },
        "id": "5M8zj7uwLtXu",
        "outputId": "33528d92-389f-462d-f132-eea353ac857f"
      },
      "execution_count": 42,
      "outputs": [
        {
          "output_type": "stream",
          "name": "stdout",
          "text": [
            "test f1_score of KNeighborsClassifier : 0.7906976744186047\n",
            "test f1_score of LogisticRegression : 0.46153846153846156\n",
            "test f1_score of DecisionTreeClassifier : 0.8958333333333334\n",
            "test f1_score of RandomForestClassifier : 0.8387096774193549\n",
            "test f1_score of XGBClassifier : 0.8842105263157894\n"
          ]
        }
      ]
    },
    {
      "cell_type": "markdown",
      "source": [
        "**The best F1-Score was given by the DecisionTreeClassifier as it has the highest score**\n",
        "\n",
        "**Hence we will be using the DecisionTreeClassifier to predict**"
      ],
      "metadata": {
        "id": "M66TyamcUhJ-"
      }
    },
    {
      "cell_type": "markdown",
      "source": [
        "# Predicting and Saving the model"
      ],
      "metadata": {
        "id": "jZPGVj15MR6I"
      }
    },
    {
      "cell_type": "markdown",
      "source": [
        "**Predicting on TestData using DecisionTreeClassifier**"
      ],
      "metadata": {
        "id": "ufkaIt3NU1eQ"
      }
    },
    {
      "cell_type": "code",
      "source": [
        "pred = model3.predict(test_data)"
      ],
      "metadata": {
        "id": "1Ty6svawj0FR"
      },
      "execution_count": 43,
      "outputs": []
    },
    {
      "cell_type": "markdown",
      "source": [
        "**Creating a dataframe with \"Transaction number\" and \"Target Variable\"**\n",
        "\n",
        "**Converting and saving the dataframe into a CSV file**"
      ],
      "metadata": {
        "id": "CI7lTCxCU-FI"
      }
    },
    {
      "cell_type": "code",
      "source": [
        "predictions = pd.DataFrame({'transaction_number': dataframe,'is_Fraud': pred})\n",
        "predictions.to_csv('submission.csv')"
      ],
      "metadata": {
        "id": "KcDPh1azj5dH"
      },
      "execution_count": 44,
      "outputs": []
    },
    {
      "cell_type": "code",
      "source": [],
      "metadata": {
        "id": "yEkTiwrEL61Y"
      },
      "execution_count": 44,
      "outputs": []
    }
  ]
}